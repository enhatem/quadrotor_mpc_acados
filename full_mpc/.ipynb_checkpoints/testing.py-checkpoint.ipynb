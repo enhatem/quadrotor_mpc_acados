{
 "cells": [
  {
   "cell_type": "code",
   "execution_count": 53,
   "id": "altered-pearl",
   "metadata": {},
   "outputs": [],
   "source": [
    "import numpy as np\n",
    "import pandas as pd\n",
    "import pyquaternion\n",
    "import matplotlib.pyplot as plt"
   ]
  },
  {
   "cell_type": "code",
   "execution_count": 6,
   "id": "divided-nomination",
   "metadata": {},
   "outputs": [],
   "source": [
    "# mpc and simulation parameters\n",
    "Tf = 1        # prediction horizon\n",
    "N  = 100      # number of discretization steps\n",
    "Ts = Tf / N   # sampling time[s]\n",
    "\n",
    "T_hover = 2     # hovering time[s]\n",
    "T_traj  = 10.00 # trajectory time[s]\n",
    "\n",
    "T = T_hover + T_traj # total simulation time\n",
    "\n",
    "# constants\n",
    "g = 9.81     # m/s^2"
   ]
  },
  {
   "cell_type": "code",
   "execution_count": 7,
   "id": "brazilian-fraud",
   "metadata": {},
   "outputs": [],
   "source": [
    "\n",
    "# import csv file of measX and simU (noisy measurement)\n",
    "ref_traj = pd.read_csv('used_data/matlab/ga4/measX.csv')\n",
    "# ref_U = pd.read_csv('used_data/matlab/ga4/simU.csv')\n",
    "\n",
    "# create references to add for the hovering time\n",
    "ref_traj_x0 = ref_traj.iloc[[0]*N*T_hover]\n",
    "# ref_u0 = ref_U.iloc[[0]*N*T_hover]\n",
    "\n",
    "# insert hovering references and inputs into their respective dataframes\n",
    "ref_traj = pd.concat([pd.DataFrame(ref_traj_x0), ref_traj], ignore_index=True)\n",
    "# ref_U = pd.concat([pd.DataFrame(ref_u0), ref_U], ignore_index=True)\n",
    "\n",
    "# append last reference point 3*N times in order for the MPC controller to work at the last iteration (multiplication by 3 is not necessary for the simulation to work but will improve the results than just multilplying by 1)\n",
    "ref_traj = ref_traj.append( ref_traj.iloc[[-1]*N*3] )\n",
    "# ref_U = ref_U.append( ref_U.iloc[[-1]*N*3] )\n",
    "\n",
    "# convert data frames to numpy arrays\n",
    "ref_traj = ref_traj[['y', 'z', 'phi', 'vy', 'vz', 'phi_dot']].to_numpy()\n",
    "# ref_U = ref_U[['Thrust', 'Torque']].to_numpy()"
   ]
  },
  {
   "cell_type": "code",
   "execution_count": 8,
   "id": "ranging-payroll",
   "metadata": {},
   "outputs": [],
   "source": [
    "y_ref   = ref_traj[:,0]\n",
    "z_ref   = ref_traj[:,1]\n",
    "phi_ref = ref_traj[:,2]\n",
    "vy_ref  = ref_traj[:,3]\n",
    "vz_ref  = ref_traj[:,4]"
   ]
  },
  {
   "cell_type": "code",
   "execution_count": 12,
   "id": "peaceful-sheep",
   "metadata": {},
   "outputs": [],
   "source": [
    "theta_ref = np.zeros_like(phi_ref)\n",
    "psi_ref = np.zeros_like(phi_ref)"
   ]
  },
  {
   "cell_type": "code",
   "execution_count": 13,
   "id": "pressed-shark",
   "metadata": {},
   "outputs": [
    {
     "name": "stdout",
     "output_type": "stream",
     "text": [
      "667\n"
     ]
    }
   ],
   "source": [
    "K = phi_ref.shape[0]\n",
    "print(K)"
   ]
  },
  {
   "cell_type": "code",
   "execution_count": 14,
   "id": "corresponding-destiny",
   "metadata": {},
   "outputs": [
    {
     "name": "stdout",
     "output_type": "stream",
     "text": [
      "(667,)\n",
      "(667,)\n",
      "(667,)\n"
     ]
    }
   ],
   "source": [
    "print(psi_ref.shape)\n",
    "print(theta_ref.shape)\n",
    "print(psi_ref.shape)"
   ]
  },
  {
   "cell_type": "code",
   "execution_count": 15,
   "id": "fabulous-election",
   "metadata": {},
   "outputs": [],
   "source": [
    "def euler_to_quaternion(roll, pitch, yaw):\n",
    "    qx = np.sin(roll / 2) * np.cos(pitch / 2) * np.cos(yaw / 2) - np.cos(roll / 2) * np.sin(pitch / 2) * np.sin(yaw / 2)\n",
    "    qy = np.cos(roll / 2) * np.sin(pitch / 2) * np.cos(yaw / 2) + np.sin(roll / 2) * np.cos(pitch / 2) * np.sin(yaw / 2)\n",
    "    qz = np.cos(roll / 2) * np.cos(pitch / 2) * np.sin(yaw / 2) - np.sin(roll / 2) * np.sin(pitch / 2) * np.cos(yaw / 2)\n",
    "    qw = np.cos(roll / 2) * np.cos(pitch / 2) * np.cos(yaw / 2) + np.sin(roll / 2) * np.sin(pitch / 2) * np.sin(yaw / 2)\n",
    "\n",
    "    return np.array([qw, qx, qy, qz])\n",
    "\n",
    "def unit_quat(q):\n",
    "    \"\"\"\n",
    "    Normalizes a quaternion to be unit modulus.\n",
    "    :param q: 4-dimensional numpy array or CasADi object\n",
    "    :return: the unit quaternion in the same data format as the original one\n",
    "    \"\"\"\n",
    "\n",
    "    if isinstance(q, np.ndarray):\n",
    "        # if (q == np.zeros(4)).all():\n",
    "        #     q = np.array([1, 0, 0, 0])\n",
    "        q_norm = np.sqrt(np.sum(q ** 2))\n",
    "    else:\n",
    "        q_norm = cs.sqrt(cs.sumsqr(q))\n",
    "    return 1 / q_norm * q"
   ]
  },
  {
   "cell_type": "code",
   "execution_count": 18,
   "id": "confident-israeli",
   "metadata": {},
   "outputs": [],
   "source": [
    "quat_ref = euler_to_quaternion(phi_ref,theta_ref,psi_ref).T"
   ]
  },
  {
   "cell_type": "code",
   "execution_count": 19,
   "id": "asian-formation",
   "metadata": {},
   "outputs": [
    {
     "name": "stdout",
     "output_type": "stream",
     "text": [
      "[[ 1.00000000e+00 -2.99605000e-08  0.00000000e+00  0.00000000e+00]\n",
      " [ 1.00000000e+00 -2.99605000e-08  0.00000000e+00  0.00000000e+00]\n",
      " [ 1.00000000e+00 -2.99605000e-08  0.00000000e+00  0.00000000e+00]\n",
      " ...\n",
      " [-1.00000000e+00 -7.34641021e-06 -0.00000000e+00  0.00000000e+00]\n",
      " [-1.00000000e+00 -7.34641021e-06 -0.00000000e+00  0.00000000e+00]\n",
      " [-1.00000000e+00 -7.34641021e-06 -0.00000000e+00  0.00000000e+00]]\n"
     ]
    }
   ],
   "source": [
    "print(quat_ref)"
   ]
  },
  {
   "cell_type": "code",
   "execution_count": 34,
   "id": "secret-benjamin",
   "metadata": {},
   "outputs": [
    {
     "name": "stdout",
     "output_type": "stream",
     "text": [
      "[-1.00000000e+00 -7.34641021e-06 -0.00000000e+00  0.00000000e+00]\n"
     ]
    }
   ],
   "source": [
    "q0 = quat_ref[500]\n",
    "print(q0)"
   ]
  },
  {
   "cell_type": "code",
   "execution_count": 35,
   "id": "acknowledged-empty",
   "metadata": {},
   "outputs": [
    {
     "name": "stdout",
     "output_type": "stream",
     "text": [
      "[-1.00000000e+00 -7.34641021e-06 -0.00000000e+00  0.00000000e+00]\n"
     ]
    }
   ],
   "source": [
    "print(unit_quat(q0))"
   ]
  },
  {
   "cell_type": "code",
   "execution_count": 36,
   "id": "earned-hurricane",
   "metadata": {},
   "outputs": [
    {
     "name": "stdout",
     "output_type": "stream",
     "text": [
      "1.0\n"
     ]
    }
   ],
   "source": [
    "q_norm = np.sqrt(np.sum(q0 ** 2))\n",
    "print(q_norm)"
   ]
  },
  {
   "cell_type": "code",
   "execution_count": 37,
   "id": "oriental-transport",
   "metadata": {},
   "outputs": [
    {
     "name": "stdout",
     "output_type": "stream",
     "text": [
      "[-1.00000000e+00 -7.34641021e-06 -0.00000000e+00  0.00000000e+00]\n"
     ]
    }
   ],
   "source": [
    "print(1 / q_norm * q0)"
   ]
  },
  {
   "cell_type": "code",
   "execution_count": 39,
   "id": "opened-retro",
   "metadata": {},
   "outputs": [],
   "source": [
    "for i in range(K):\n",
    "    quat_ref[i] = unit_quat(quat_ref[i])"
   ]
  },
  {
   "cell_type": "code",
   "execution_count": 40,
   "id": "bridal-literature",
   "metadata": {},
   "outputs": [
    {
     "name": "stdout",
     "output_type": "stream",
     "text": [
      "[[ 1.00000000e+00 -2.99605000e-08  0.00000000e+00  0.00000000e+00]\n",
      " [ 1.00000000e+00 -2.99605000e-08  0.00000000e+00  0.00000000e+00]\n",
      " [ 1.00000000e+00 -2.99605000e-08  0.00000000e+00  0.00000000e+00]\n",
      " ...\n",
      " [-1.00000000e+00 -7.34641021e-06 -0.00000000e+00  0.00000000e+00]\n",
      " [-1.00000000e+00 -7.34641021e-06 -0.00000000e+00  0.00000000e+00]\n",
      " [-1.00000000e+00 -7.34641021e-06 -0.00000000e+00  0.00000000e+00]]\n"
     ]
    }
   ],
   "source": [
    "print(quat_ref)"
   ]
  },
  {
   "cell_type": "code",
   "execution_count": 41,
   "id": "demanding-constitutional",
   "metadata": {},
   "outputs": [],
   "source": [
    "def quaternion_to_euler(q):\n",
    "    q = pyquaternion.Quaternion(w=q[0], x=q[1], y=q[2], z=q[3])\n",
    "    yaw, pitch, roll = q.yaw_pitch_roll\n",
    "    return [roll, pitch, yaw]"
   ]
  },
  {
   "cell_type": "code",
   "execution_count": 50,
   "id": "accessible-excitement",
   "metadata": {},
   "outputs": [
    {
     "name": "stdout",
     "output_type": "stream",
     "text": [
      "[[0. 0. 0.]\n",
      " [0. 0. 0.]\n",
      " [0. 0. 0.]\n",
      " ...\n",
      " [0. 0. 0.]\n",
      " [0. 0. 0.]\n",
      " [0. 0. 0.]]\n"
     ]
    }
   ],
   "source": [
    "euler_angles=np.zeros((quat_ref.shape[0],3))\n",
    "print(euler_angles)"
   ]
  },
  {
   "cell_type": "code",
   "execution_count": 51,
   "id": "challenging-advisory",
   "metadata": {},
   "outputs": [],
   "source": [
    "for i in range(K):\n",
    "    qi = quat_ref[i]\n",
    "    euler_angles[i] = quaternion_to_euler(qi)"
   ]
  },
  {
   "cell_type": "code",
   "execution_count": 52,
   "id": "beautiful-hungarian",
   "metadata": {},
   "outputs": [
    {
     "name": "stdout",
     "output_type": "stream",
     "text": [
      "[[-5.99210000e-08  0.00000000e+00  0.00000000e+00]\n",
      " [-5.99210000e-08  0.00000000e+00  0.00000000e+00]\n",
      " [-5.99210000e-08  0.00000000e+00  0.00000000e+00]\n",
      " ...\n",
      " [ 1.46928204e-05  0.00000000e+00 -0.00000000e+00]\n",
      " [ 1.46928204e-05  0.00000000e+00 -0.00000000e+00]\n",
      " [ 1.46928204e-05  0.00000000e+00 -0.00000000e+00]]\n"
     ]
    }
   ],
   "source": [
    "print(euler_angles)"
   ]
  },
  {
   "cell_type": "code",
   "execution_count": 58,
   "id": "genuine-addition",
   "metadata": {},
   "outputs": [
    {
     "data": {
      "image/png": "[encoded data removed]",
      "text/plain": [
       "<Figure size 432x288 with 1 Axes>"
      ]
     },
     "metadata": {
      "needs_background": "light"
     },
     "output_type": "display_data"
    }
   ],
   "source": [
    "fig, ax = plt.subplots(nrows=1,ncols=1)\n",
    "ax.plot(euler_angles[:,0])\n",
    "plt.show()"
   ]
  },
  {
   "cell_type": "code",
   "execution_count": 57,
   "id": "first-technology",
   "metadata": {},
   "outputs": [],
   "source": [
    "# phi   = atan2(2*(qw*qx + qy*qz), 1-2*(qx**2 + qy**2))\n",
    "# theta = asin2(2*(qw*qy - qz*qx))\n",
    "# psi   = atan2(2*(qw*qz + qx*qy), 1-2*(qy**2 + qz**2))"
   ]
  },
  {
   "cell_type": "code",
   "execution_count": null,
   "id": "upper-provider",
   "metadata": {},
   "outputs": [],
   "source": []
  }
 ],
 "metadata": {
  "kernelspec": {
   "display_name": "Python 3",
   "language": "python",
   "name": "python3"
  },
  "language_info": {
   "codemirror_mode": {
    "name": "ipython",
    "version": 3
   },
   "file_extension": ".py",
   "mimetype": "text/x-python",
   "name": "python",
   "nbconvert_exporter": "python",
   "pygments_lexer": "ipython3",
   "version": "3.8.5"
  }
 },
 "nbformat": 4,
 "nbformat_minor": 5
}
